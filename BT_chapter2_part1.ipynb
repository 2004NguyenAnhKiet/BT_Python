{
 "cells": [
  {
   "cell_type": "code",
   "execution_count": null,
   "id": "5610d9d9-d9ad-4385-861e-a948bfedab89",
   "metadata": {},
   "outputs": [],
   "source": [
    "'Bài 1'"
   ]
  },
  {
   "cell_type": "code",
   "execution_count": 1,
   "id": "cb1382d5-c7bc-4ce2-aa43-845ac5f47698",
   "metadata": {},
   "outputs": [
    {
     "name": "stdin",
     "output_type": "stream",
     "text": [
      "Enter your string:  kiet\n"
     ]
    },
    {
     "name": "stdout",
     "output_type": "stream",
     "text": [
      "A upper string is: KIET\n",
      "A lower string is: kiet\n",
      "A title string is: Kiet\n"
     ]
    }
   ],
   "source": [
    "st = input (\"Enter your string: \")\n",
    "st_upper = st.upper()\n",
    "st_lower = st.lower()\n",
    "st_title = st.title()\n",
    "\n",
    "print (\"A upper string is: \" + st_upper)\n",
    "print (\"A lower string is: \" + st_lower)\n",
    "print (\"A title string is: \" + st_title)"
   ]
  },
  {
   "cell_type": "code",
   "execution_count": null,
   "id": "340b8c78-3bac-48ec-a2ae-d1af3ce9068a",
   "metadata": {},
   "outputs": [],
   "source": [
    "'Bài 2'"
   ]
  },
  {
   "cell_type": "code",
   "execution_count": 1,
   "id": "80deb936-f8a9-4e77-9205-35957619fc60",
   "metadata": {},
   "outputs": [
    {
     "name": "stdout",
     "output_type": "stream",
     "text": [
      "gmail.com\n"
     ]
    }
   ],
   "source": [
    "data = \"minhnhutvh@gmail.com\"\n",
    "position = data.find(\"@\")               \n",
    "host = data[position +1 :]\n",
    "print(host)"
   ]
  },
  {
   "cell_type": "code",
   "execution_count": null,
   "id": "3920a2e4-d132-4520-accd-b4431abb9e23",
   "metadata": {},
   "outputs": [],
   "source": [
    "'Bài 3'"
   ]
  },
  {
   "cell_type": "code",
   "execution_count": 2,
   "id": "00a7c4c1-7289-474f-8a48-a32974448154",
   "metadata": {},
   "outputs": [
    {
     "name": "stdout",
     "output_type": "stream",
     "text": [
      "gmail.com\n"
     ]
    }
   ],
   "source": [
    "data = \"minhnhutvh@gmail.com Sat Jan 5 09:14:16\"\n",
    "Start_position = data.find(\"@\")                \n",
    "End_position = data.find(\" \", Start_position) \n",
    "host = data[Start_position +1 : End_position]\n",
    "print(host)\n"
   ]
  },
  {
   "cell_type": "code",
   "execution_count": null,
   "id": "4e2dc789-89a6-4c30-b760-f1f489e7ccf3",
   "metadata": {},
   "outputs": [],
   "source": [
    "'Bài 4'"
   ]
  },
  {
   "cell_type": "code",
   "execution_count": 4,
   "id": "4aacc9f3-4bcc-415c-af5f-949ae8fcd74a",
   "metadata": {},
   "outputs": [
    {
     "name": "stdin",
     "output_type": "stream",
     "text": [
      "Enter string:  VKY\n",
      "Enter the word that needs to replace:  Y\n",
      "Enter the word after being replaced:  U\n"
     ]
    },
    {
     "name": "stdout",
     "output_type": "stream",
     "text": [
      "VKU\n"
     ]
    }
   ],
   "source": [
    "st1 = input (\"Enter string: \")\n",
    "st2 = input (\"Enter the word that needs to replace: \")\n",
    "st3 = input (\"Enter the word after being replaced: \")\n",
    "\n",
    "st1 = st1.replace(st2, st3)\n",
    "print(st1)"
   ]
  },
  {
   "cell_type": "code",
   "execution_count": null,
   "id": "8957f7bb-6d1d-48e7-ba40-8dd75c5efd9c",
   "metadata": {},
   "outputs": [],
   "source": [
    "'Bài 5'"
   ]
  },
  {
   "cell_type": "code",
   "execution_count": null,
   "id": "1f948aea-b378-4025-8abb-a18c4c44f47d",
   "metadata": {},
   "outputs": [],
   "source": [
    "st = input(“Enter your string: \")\n",
    "First_five_characters = st[:5]\n",
    "Last_five_characters = st[len(st)-5:]\n",
    "4_Str_1_line = 4 * (st + \" \")\n",
    "4_Str_4_line = 4 * (st + \"\\n\")\n",
    "\n",
    "print(\"First five characters are: \" + First_five_characters)\n",
    "print(\"Last five characters are: \" + Last_five_characters)\n",
    "print(\"Four strings of one line are: \" + 4_Str_1_line)\n",
    "print(\"Four strings of four line are: \\n\" + 4_Str_4_line)"
   ]
  },
  {
   "cell_type": "code",
   "execution_count": null,
   "id": "18331780-cac9-44fc-812e-56f09f04e68d",
   "metadata": {},
   "outputs": [],
   "source": [
    "'Bài 6'"
   ]
  },
  {
   "cell_type": "code",
   "execution_count": 6,
   "id": "cebf3846-1e97-4225-9597-6f18746d7a53",
   "metadata": {},
   "outputs": [
    {
     "name": "stdin",
     "output_type": "stream",
     "text": [
      "Nhập bán kính r:  3\n",
      "Nhập chiều cao h:  4\n"
     ]
    },
    {
     "name": "stdout",
     "output_type": "stream",
     "text": [
      "Thể tích hình trụ V = 113.097336\n"
     ]
    }
   ],
   "source": [
    "import math\n",
    "\n",
    "def cylinder_volume(r, h):\n",
    "    return math.pi * r * r * h\n",
    "\n",
    "try:\n",
    "    r = float(input(\"Nhập bán kính r: \"))\n",
    "    h = float(input(\"Nhập chiều cao h: \"))\n",
    "except ValueError:\n",
    "    print(\"Lỗi: Vui lòng nhập một số hợp lệ.\")\n",
    "else:\n",
    "    if r < 0 or h < 0:\n",
    "        print(\"Lỗi: r và h phải >= 0.\")\n",
    "    else:\n",
    "        V = cylinder_volume(r, h)\n",
    "        print(f\"Thể tích hình trụ V = {V:.6f}\")\n"
   ]
  },
  {
   "cell_type": "code",
   "execution_count": null,
   "id": "a33e3bbf-8e57-4aca-a115-e8b4da8c3b9f",
   "metadata": {},
   "outputs": [],
   "source": [
    "'Bài 7'"
   ]
  },
  {
   "cell_type": "code",
   "execution_count": 9,
   "id": "ad53cbda-bf97-4182-94c8-e240099126be",
   "metadata": {},
   "outputs": [
    {
     "name": "stdin",
     "output_type": "stream",
     "text": [
      "Nhập cạnh a:  3\n",
      "Nhập cạnh b:  3\n",
      "Nhập cạnh c:  3\n",
      "Nhập góc A (radian):  1.0472\n",
      "Nhập góc B (radian):  1.0472\n",
      "Nhập góc C (radian):  1.0472\n"
     ]
    },
    {
     "name": "stdout",
     "output_type": "stream",
     "text": [
      "Diện tích theo công thức 1/2*a*b*sin(C) = 3.897120\n",
      "Diện tích theo công thức 1/2*a*c*sin(B) = 3.897120\n",
      "Diện tích theo công thức 1/2*b*c*sin(A) = 3.897120\n"
     ]
    }
   ],
   "source": [
    "import math\n",
    "\n",
    "def triangle_area(a, b, c, A, B, C):\n",
    "    S1 = 0.5 * a * b * math.sin(C)\n",
    "    S2 = 0.5 * a * c * math.sin(B)\n",
    "    S3 = 0.5 * b * c * math.sin(A)\n",
    "    return S1, S2, S3\n",
    "\n",
    "a = float(input(\"Nhập cạnh a: \"))\n",
    "b = float(input(\"Nhập cạnh b: \"))\n",
    "c = float(input(\"Nhập cạnh c: \"))\n",
    "A = float(input(\"Nhập góc A (radian): \"))\n",
    "B = float(input(\"Nhập góc B (radian): \"))\n",
    "C = float(input(\"Nhập góc C (radian): \"))\n",
    "\n",
    "S1, S2, S3 = triangle_area(a, b, c, A, B, C)\n",
    "\n",
    "# In kết quả\n",
    "print(f\"Diện tích theo công thức 1/2*a*b*sin(C) = {S1:.6f}\")\n",
    "print(f\"Diện tích theo công thức 1/2*a*c*sin(B) = {S2:.6f}\")\n",
    "print(f\"Diện tích theo công thức 1/2*b*c*sin(A) = {S3:.6f}\")\n"
   ]
  },
  {
   "cell_type": "code",
   "execution_count": null,
   "id": "e24ed39c-1564-4ed2-b8e6-a2e47e5f5b11",
   "metadata": {},
   "outputs": [],
   "source": [
    "'Bài 8'"
   ]
  },
  {
   "cell_type": "code",
   "execution_count": 8,
   "id": "fed5454f-2fe8-4669-a473-fbe4a8740390",
   "metadata": {},
   "outputs": [
    {
     "name": "stdin",
     "output_type": "stream",
     "text": [
      "Nhập cạnh tam giác đều:  3\n"
     ]
    },
    {
     "name": "stdout",
     "output_type": "stream",
     "text": [
      "Diện tích tam giác đều cạnh 3.0 là: 3.897114\n"
     ]
    }
   ],
   "source": [
    "import math\n",
    "\n",
    "def equilateral_triangle_area(side):\n",
    "    p = (3 * side) / 2\n",
    "    area = math.sqrt(p * (p - side) * (p - side) * (p - side))\n",
    "    return area\n",
    "\n",
    "a = float(input(\"Nhập cạnh tam giác đều: \"))\n",
    "\n",
    "if a <= 0:\n",
    "    print(\"Cạnh phải là số dương!\")\n",
    "else:\n",
    "    S = equilateral_triangle_area(a)\n",
    "    print(f\"Diện tích tam giác đều cạnh {a} là: {S:.6f}\")\n"
   ]
  },
  {
   "cell_type": "code",
   "execution_count": null,
   "id": "86a333c0-006e-46e1-a8e3-956e69ce6455",
   "metadata": {},
   "outputs": [],
   "source": [
    "'Bài 9: Keeta quả của cả bài 7 và bài 8 là gần như nhau, sai số rất nhỏ do làm tròn số khi tính toán'"
   ]
  },
  {
   "cell_type": "code",
   "execution_count": null,
   "id": "542ebf0a-4998-4480-8632-787112a8f51a",
   "metadata": {},
   "outputs": [],
   "source": [
    "'Bài 10'"
   ]
  },
  {
   "cell_type": "code",
   "execution_count": 10,
   "id": "cef199c4-392f-44ea-bf77-0aa36b85b206",
   "metadata": {},
   "outputs": [
    {
     "name": "stdin",
     "output_type": "stream",
     "text": [
      "Nhập chiều dài của căn phòng (m):  3\n",
      "Nhập chiều rộng của căn phòng (m):  4\n"
     ]
    },
    {
     "name": "stdout",
     "output_type": "stream",
     "text": [
      "Diện tích căn phòng là: 12.00 m²\n"
     ]
    }
   ],
   "source": [
    "try:\n",
    "    length = float(input(\"Nhập chiều dài của căn phòng (m): \"))\n",
    "    width = float(input(\"Nhập chiều rộng của căn phòng (m): \"))\n",
    "except ValueError:\n",
    "    print(\"Lỗi: vui lòng nhập số hợp lệ!\")\n",
    "else:\n",
    "    if length <= 0 or width <= 0:\n",
    "        print(\"Chiều dài và chiều rộng phải > 0.\")\n",
    "    else:\n",
    "        area = length * width\n",
    "        print(f\"Diện tích căn phòng là: {area:.2f} m²\")\n"
   ]
  },
  {
   "cell_type": "code",
   "execution_count": null,
   "id": "6d7611f8-7bad-4d2b-8992-e5fb8e6f0f8e",
   "metadata": {},
   "outputs": [],
   "source": [
    "'Bài 11'"
   ]
  },
  {
   "cell_type": "code",
   "execution_count": 11,
   "id": "57fff1cd-cb9e-45cd-91ac-57e632c80e1b",
   "metadata": {},
   "outputs": [
    {
     "name": "stdin",
     "output_type": "stream",
     "text": [
      "Nhập chiều dài cánh đồng (m):  3\n",
      "Nhập chiều rộng cánh đồng (m):  4\n"
     ]
    },
    {
     "name": "stdout",
     "output_type": "stream",
     "text": [
      "Diện tích cánh đồng: 12.00 m²\n",
      "Tương đương: 0.000275 mẫu Anh\n"
     ]
    }
   ],
   "source": [
    "ACRE_IN_SQM = 43560  # 1 mẫu Anh = 43,560 m²\n",
    "\n",
    "try:\n",
    "    length = float(input(\"Nhập chiều dài cánh đồng (m): \"))\n",
    "    width = float(input(\"Nhập chiều rộng cánh đồng (m): \"))\n",
    "except ValueError:\n",
    "    print(\"Lỗi: vui lòng nhập số hợp lệ!\")\n",
    "else:\n",
    "    if length <= 0 or width <= 0:\n",
    "        print(\"Chiều dài và chiều rộng phải > 0.\")\n",
    "    else:\n",
    "        area_sqm = length * width              \n",
    "        area_acre = area_sqm / ACRE_IN_SQM\n",
    "        print(f\"Diện tích cánh đồng: {area_sqm:.2f} m²\")\n",
    "        print(f\"Tương đương: {area_acre:.6f} mẫu Anh\")\n"
   ]
  },
  {
   "cell_type": "code",
   "execution_count": null,
   "id": "b6a1d775-1dad-4e54-a338-a1eba2f34867",
   "metadata": {},
   "outputs": [],
   "source": [
    "'Bài 12'"
   ]
  },
  {
   "cell_type": "code",
   "execution_count": 12,
   "id": "dfcaf1d3-aa29-42f4-8321-97e58018411c",
   "metadata": {},
   "outputs": [
    {
     "name": "stdin",
     "output_type": "stream",
     "text": [
      "Nhập chi phí bữa ăn (VND):  10000\n"
     ]
    },
    {
     "name": "stdout",
     "output_type": "stream",
     "text": [
      "Tiền bữa ăn: 10000.00 VND\n",
      "Thuế (5%): 500.00 VND\n",
      "Tiền boa (18%): 1800.00 VND\n",
      "Tổng cộng: 12300.00 VND\n"
     ]
    }
   ],
   "source": [
    "try:\n",
    "    meal_cost = float(input(\"Nhập chi phí bữa ăn (VND): \"))\n",
    "except ValueError:\n",
    "    print(\"Lỗi: vui lòng nhập số hợp lệ!\")\n",
    "else:\n",
    "    if meal_cost <= 0:\n",
    "        print(\"Chi phí bữa ăn phải > 0.\")\n",
    "    else:\n",
    "        tax = meal_cost * 0.05  \n",
    "        tip = meal_cost * 0.18\n",
    "        total = meal_cost + tax + tip\n",
    "\n",
    "        print(f\"Tiền bữa ăn: {meal_cost:.2f} VND\")\n",
    "        print(f\"Thuế (5%): {tax:.2f} VND\")\n",
    "        print(f\"Tiền boa (18%): {tip:.2f} VND\")\n",
    "        print(f\"Tổng cộng: {total:.2f} VND\")\n"
   ]
  },
  {
   "cell_type": "code",
   "execution_count": null,
   "id": "b5fd09e2-3bb4-4ce2-a364-aa15e2a5ecb7",
   "metadata": {},
   "outputs": [],
   "source": [
    "'Bài 13'"
   ]
  },
  {
   "cell_type": "code",
   "execution_count": 13,
   "id": "816e8fe9-e0be-499e-8ea4-a3b103fe3296",
   "metadata": {},
   "outputs": [
    {
     "name": "stdin",
     "output_type": "stream",
     "text": [
      "Nhập một số nguyên dương n:  3\n"
     ]
    },
    {
     "name": "stdout",
     "output_type": "stream",
     "text": [
      "Tổng các số nguyên từ 1 đến 3 là: 6\n"
     ]
    }
   ],
   "source": [
    "try:\n",
    "    n = int(input(\"Nhập một số nguyên dương n: \"))\n",
    "except ValueError:\n",
    "    print(\"Lỗi: vui lòng nhập số nguyên hợp lệ!\")\n",
    "else:\n",
    "    if n <= 0:\n",
    "        print(\"n phải là số nguyên dương (> 0).\")\n",
    "    else:\n",
    "        total = (n * (n + 1)) // 2\n",
    "        print(f\"Tổng các số nguyên từ 1 đến {n} là: {total}\")\n"
   ]
  },
  {
   "cell_type": "code",
   "execution_count": null,
   "id": "5f98f306-e9f1-4e19-ac33-ecfa24714006",
   "metadata": {},
   "outputs": [],
   "source": [
    "'bài 14'"
   ]
  },
  {
   "cell_type": "code",
   "execution_count": 1,
   "id": "1e096b52-9b00-40a1-a470-f571c6e0a82a",
   "metadata": {},
   "outputs": [
    {
     "name": "stdin",
     "output_type": "stream",
     "text": [
      "Nhập số nguyên a:  3\n",
      "Nhập số nguyên b:  4\n"
     ]
    },
    {
     "name": "stdout",
     "output_type": "stream",
     "text": [
      "Tổng: 7\n",
      "Hiệu: -1\n",
      "Tích: 12\n",
      "Thương: 0.75\n",
      "Phần dư: 3\n",
      "log10(a): 0.47712125471966244\n",
      "a^b: 81\n"
     ]
    }
   ],
   "source": [
    "import math\n",
    "\n",
    "a = int(input(\"Nhập số nguyên a: \"))\n",
    "b = int(input(\"Nhập số nguyên b: \"))\n",
    "\n",
    "tong = a + b\n",
    "hieu = a - b\n",
    "tich = a * b\n",
    "\n",
    "if b != 0:\n",
    "    thuong = a / b\n",
    "    du = a % b\n",
    "else:\n",
    "    thuong = \"Không xác định (chia cho 0)\"\n",
    "    du = \"Không xác định (chia cho 0)\"\n",
    "\n",
    "if a > 0:\n",
    "    log_a = math.log10(a)\n",
    "else:\n",
    "    log_a = \"Không xác định (a <= 0)\"\n",
    "\n",
    "luythua = a ** b\n",
    "\n",
    "print(\"Tổng:\", tong)\n",
    "print(\"Hiệu:\", hieu)\n",
    "print(\"Tích:\", tich)\n",
    "print(\"Thương:\", thuong)\n",
    "print(\"Phần dư:\", du)\n",
    "print(\"log10(a):\", log_a)\n",
    "print(\"a^b:\", luythua)\n"
   ]
  },
  {
   "cell_type": "code",
   "execution_count": null,
   "id": "d1fd3e8d-2fc5-421f-b53f-cf3813adf97f",
   "metadata": {},
   "outputs": [],
   "source": [
    "'Bài 15'"
   ]
  },
  {
   "cell_type": "code",
   "execution_count": 2,
   "id": "45fb1ee2-8330-4f18-91f8-01ab034b199b",
   "metadata": {},
   "outputs": [
    {
     "name": "stdin",
     "output_type": "stream",
     "text": [
      "Nhập khối lượng nước (gram):  1000\n",
      "Nhập sự thay đổi nhiệt độ (°C):  60\n"
     ]
    },
    {
     "name": "stdout",
     "output_type": "stream",
     "text": [
      "\n",
      "Năng lượng cần thiết: 251160.00 Joules\n",
      "Năng lượng cần thiết: 0.069747 kWh\n",
      "Chi phí làm nóng nước: 0.6207 cent\n"
     ]
    }
   ],
   "source": [
    "C = 4.186  \n",
    "J_to_kWh = 2.777e-7  \n",
    "cost_per_kWh = 8.9 \n",
    "\n",
    "m = float(input(\"Nhập khối lượng nước (gram): \"))\n",
    "delta_T = float(input(\"Nhập sự thay đổi nhiệt độ (°C): \"))\n",
    "\n",
    "Q = m * C * delta_T  # Joules\n",
    "\n",
    "Q_kWh = Q * J_to_kWh\n",
    "\n",
    "cost = Q_kWh * cost_per_kWh\n",
    "\n",
    "# Hiển thị kết quả\n",
    "print(f\"\\nNăng lượng cần thiết: {Q:.2f} Joules\")\n",
    "print(f\"Năng lượng cần thiết: {Q_kWh:.6f} kWh\")\n",
    "print(f\"Chi phí làm nóng nước: {cost:.4f} cent\")\n"
   ]
  },
  {
   "cell_type": "code",
   "execution_count": null,
   "id": "7ad6cf7b-5827-4f55-b96f-2087b0c23f0a",
   "metadata": {},
   "outputs": [],
   "source": [
    "'Bài 16'"
   ]
  },
  {
   "cell_type": "code",
   "execution_count": 3,
   "id": "3e47e9aa-6a0d-42cd-ba20-985b1a9652bd",
   "metadata": {},
   "outputs": [
    {
     "name": "stdin",
     "output_type": "stream",
     "text": [
      "Nhập chiều cao thả vật (m):  100\n"
     ]
    },
    {
     "name": "stdout",
     "output_type": "stream",
     "text": [
      "Tốc độ của vật khi chạm đất là: 44.27 m/s\n"
     ]
    }
   ],
   "source": [
    "import math\n",
    "\n",
    "g = 9.8\n",
    "\n",
    "d = float(input(\"Nhập chiều cao thả vật (m): \"))\n",
    "\n",
    "v = math.sqrt(2 * g * d)\n",
    "\n",
    "print(f\"Tốc độ của vật khi chạm đất là: {v:.2f} m/s\")\n"
   ]
  },
  {
   "cell_type": "code",
   "execution_count": null,
   "id": "f7275fb5-aafe-4c23-aa83-06e194cc506b",
   "metadata": {},
   "outputs": [],
   "source": [
    "'Bài 17'"
   ]
  },
  {
   "cell_type": "code",
   "execution_count": 4,
   "id": "413c9a95-047b-4160-ad20-b41ed2f34b66",
   "metadata": {},
   "outputs": [
    {
     "name": "stdin",
     "output_type": "stream",
     "text": [
      "Nhập nhiệt độ không khí (°C):  30\n",
      "Nhập tốc độ gió (km/h):  100\n"
     ]
    },
    {
     "name": "stdout",
     "output_type": "stream",
     "text": [
      "Chỉ số gió lạnh: 33\n"
     ]
    }
   ],
   "source": [
    "import math\n",
    "\n",
    "t = float(input(\"Nhập nhiệt độ không khí (°C): \"))\n",
    "v = float(input(\"Nhập tốc độ gió (km/h): \"))\n",
    "\n",
    "WCI = 13.12 + 0.6215 * t - 11.37 * (v ** 0.16) + 0.3965 * t * (v ** 0.16)\n",
    "\n",
    "WCI_rounded = round(WCI)\n",
    "\n",
    "# Hiển thị kết quả\n",
    "print(f\"Chỉ số gió lạnh: {WCI_rounded}\")\n"
   ]
  },
  {
   "cell_type": "code",
   "execution_count": null,
   "id": "8d0149e4-529e-4587-bc5b-189d1b74ebe6",
   "metadata": {},
   "outputs": [],
   "source": []
  }
 ],
 "metadata": {
  "kernelspec": {
   "display_name": "Python [conda env:base] *",
   "language": "python",
   "name": "conda-base-py"
  },
  "language_info": {
   "codemirror_mode": {
    "name": "ipython",
    "version": 3
   },
   "file_extension": ".py",
   "mimetype": "text/x-python",
   "name": "python",
   "nbconvert_exporter": "python",
   "pygments_lexer": "ipython3",
   "version": "3.13.5"
  }
 },
 "nbformat": 4,
 "nbformat_minor": 5
}
